{
 "cells": [
  {
   "cell_type": "code",
   "execution_count": 1,
   "id": "6818a922-d3de-4392-9879-5e81e2935297",
   "metadata": {},
   "outputs": [
    {
     "name": "stdout",
     "output_type": "stream",
     "text": [
      "22.1 77.9\n"
     ]
    }
   ],
   "source": [
    "!python FeatureEngineering.py\n"
   ]
  },
  {
   "cell_type": "code",
   "execution_count": null,
   "id": "f35a9b79-c6ce-40dd-88b7-b0831e948f6d",
   "metadata": {},
   "outputs": [],
   "source": []
  },
  {
   "cell_type": "code",
   "execution_count": 2,
   "id": "b571c421-b024-4881-baee-565faae4a970",
   "metadata": {},
   "outputs": [
    {
     "name": "stdout",
     "output_type": "stream",
     "text": [
      "22.1 77.9\n"
     ]
    }
   ],
   "source": [
    "!python FeatureEngineering.py"
   ]
  },
  {
   "cell_type": "code",
   "execution_count": null,
   "id": "85547d04-5543-4bce-9a99-ea6e3ed2544d",
   "metadata": {},
   "outputs": [],
   "source": []
  }
 ],
 "metadata": {
  "kernelspec": {
   "display_name": "Python 3 (ipykernel)",
   "language": "python",
   "name": "python3"
  },
  "language_info": {
   "codemirror_mode": {
    "name": "ipython",
    "version": 3
   },
   "file_extension": ".py",
   "mimetype": "text/x-python",
   "name": "python",
   "nbconvert_exporter": "python",
   "pygments_lexer": "ipython3",
   "version": "3.10.11"
  }
 },
 "nbformat": 4,
 "nbformat_minor": 5
}
